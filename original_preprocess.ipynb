{
 "cells": [
  {
   "cell_type": "code",
   "execution_count": 1,
   "metadata": {},
   "outputs": [
    {
     "name": "stdout",
     "output_type": "stream",
     "text": [
      "docker\t maps\t\t\t    README.md  tools\t   utils.py\n",
      "main.py  original_preprocess.ipynb  run.yaml   torchbeast\n"
     ]
    }
   ],
   "source": [
    "!ls"
   ]
  },
  {
   "cell_type": "code",
   "execution_count": 2,
   "metadata": {},
   "outputs": [
    {
     "name": "stderr",
     "output_type": "stream",
     "text": [
      "/home/penzard/.local/lib/python3.8/site-packages/tqdm/auto.py:21: TqdmWarning: IProgress not found. Please update jupyter and ipywidgets. See https://ipywidgets.readthedocs.io/en/stable/user_install.html\n",
      "  from .autonotebook import tqdm as notebook_tqdm\n"
     ]
    }
   ],
   "source": [
    "import torch\n",
    "import torch.nn.functional as F\n",
    "from torchbeast.neural_mmo.train_wrapper import FeatureParser\n",
    "from torchbeast.monobeast import batch, unbatch\n",
    "from nmmo import Env\n",
    "def torchify_features(features: dict) -> dict:\n",
    "    out_f = {}\n",
    "    for ag_id, ag_dict in features.items():\n",
    "        ag_out_dict = {}\n",
    "        for f_key, f_val in ag_dict.items():\n",
    "            ag_out_dict[f_key] = torch.from_numpy(f_val).unsqueeze(0).unsqueeze(0) # to add agent dimension and team dimension\n",
    "        out_f[ag_id] = ag_out_dict\n",
    "    return out_f\n",
    "\n",
    "def stack_data(input: dict) -> torch.Tensor:\n",
    "    assert \"va\" in input\n",
    "    terrain, camp, entity = input[\"terrain\"], input[\n",
    "                \"camp\"], input[\"entity\"]\n",
    "    terrain = F.one_hot(terrain, num_classes=6).permute(0, 1, 4, 2, 3)\n",
    "    camp = F.one_hot(camp, num_classes=4).permute(0, 1, 4, 2, 3)\n",
    "\n",
    "    # print(terrain.shape, camp.shape, entity.shape)\n",
    "    x = torch.cat([terrain, camp, entity], dim=2)\n",
    "    return x\n"
   ]
  },
  {
   "cell_type": "code",
   "execution_count": 3,
   "metadata": {},
   "outputs": [
    {
     "name": "stderr",
     "output_type": "stream",
     "text": [
      "/home/penzard/miniconda3/envs/nmmoenv2/lib/python3.8/site-packages/nmmo/core/terrain.py:53: DeprecationWarning: Starting with ImageIO v3 the behavior of this function will switch to that of iio.v3.imread. To keep the current behavior (and make this warning disappear) use `import imageio.v2 as imageio` or call `imageio.v2.imread` directly.\n",
      "  tex = imread(path.format(key))\n"
     ]
    }
   ],
   "source": [
    "\n",
    "\n",
    "# Default environment - see API for config options\n",
    "env = Env()\n",
    "obs = env.reset()\n",
    "\n",
    "\n",
    "actions = {} # Compute with your model\n",
    "\n",
    "\n",
    "obs, rewards, dones, infos = env.step(actions)\n",
    "parser = FeatureParser()\n",
    "features = torchify_features(parser.parse(obs))\n",
    "batched_features, agent_ids = batch(features, filter_keys=list(parser.feature_spec))\n",
    "\n",
    "\n",
    "\n",
    "inp = stack_data(batched_features)"
   ]
  },
  {
   "cell_type": "code",
   "execution_count": 4,
   "metadata": {},
   "outputs": [],
   "source": [
    "import torch.nn as nn\n",
    "cnn = nn.Sequential(\n",
    "            nn.Conv2d(in_channels=17,\n",
    "                      out_channels=32,\n",
    "                      kernel_size=3,\n",
    "                      stride=1,\n",
    "                      padding=1), nn.ReLU(),\n",
    "            nn.Conv2d(in_channels=32,\n",
    "                      out_channels=32,\n",
    "                      kernel_size=3,\n",
    "                      stride=1,\n",
    "                      padding=1), nn.ReLU(),\n",
    "            nn.Conv2d(in_channels=32,\n",
    "                      out_channels=32,\n",
    "                      kernel_size=3,\n",
    "                      stride=1,\n",
    "                      padding=1), nn.ReLU(),\n",
    "            nn.Conv2d(in_channels=32,\n",
    "                      out_channels=16,\n",
    "                      kernel_size=3,\n",
    "                      stride=1,\n",
    "                      padding=1), nn.ReLU(),\n",
    "            nn.Conv2d(in_channels=16,\n",
    "                      out_channels=16,\n",
    "                      kernel_size=3,\n",
    "                      stride=1,\n",
    "                      padding=1), nn.ReLU())"
   ]
  },
  {
   "cell_type": "code",
   "execution_count": 5,
   "metadata": {},
   "outputs": [
    {
     "data": {
      "text/plain": [
       "torch.Size([4, 16, 15, 15])"
      ]
     },
     "execution_count": 5,
     "metadata": {},
     "output_type": "execute_result"
    }
   ],
   "source": [
    "joined_input = torch.flatten(inp, 0, 1)\n",
    "\n",
    "\n",
    "cnn(joined_input).shape"
   ]
  }
 ],
 "metadata": {
  "kernelspec": {
   "display_name": "nmmo",
   "language": "python",
   "name": "python3"
  },
  "language_info": {
   "codemirror_mode": {
    "name": "ipython",
    "version": 3
   },
   "file_extension": ".py",
   "mimetype": "text/x-python",
   "name": "python",
   "nbconvert_exporter": "python",
   "pygments_lexer": "ipython3",
   "version": "3.8.17"
  },
  "orig_nbformat": 4
 },
 "nbformat": 4,
 "nbformat_minor": 2
}
